{
  "nbformat": 4,
  "nbformat_minor": 0,
  "metadata": {
    "colab": {
      "name": "Drowsiness_Detection_Model_V2.ipynb",
      "provenance": []
    },
    "kernelspec": {
      "name": "python3",
      "display_name": "Python 3"
    },
    "accelerator": "GPU"
  },
  "cells": [
    {
      "cell_type": "code",
      "metadata": {
        "colab": {
          "base_uri": "https://localhost:8080/",
          "height": 204
        },
        "id": "agNlBcRpJdO9",
        "outputId": "d036a064-2d72-4808-b5f3-edb4bad557ea"
      },
      "source": [
        "#reading raw rr interval vs sleep grade into a dataframe:\n",
        "import pandas as pd\n",
        "import numpy as np\n",
        "import pickle\n",
        "import matplotlib.pyplot as plt\n",
        "rri_sleep_df = pd.read_csv('/content/drive/MyDrive/Colab Notebooks/Driver_Drowsiness/RRinterval_SleepStages_Dataset.csv',)\n",
        "rri_sleep_df.tail()"
      ],
      "execution_count": 1,
      "outputs": [
        {
          "output_type": "execute_result",
          "data": {
            "text/html": [
              "<div>\n",
              "<style scoped>\n",
              "    .dataframe tbody tr th:only-of-type {\n",
              "        vertical-align: middle;\n",
              "    }\n",
              "\n",
              "    .dataframe tbody tr th {\n",
              "        vertical-align: top;\n",
              "    }\n",
              "\n",
              "    .dataframe thead th {\n",
              "        text-align: right;\n",
              "    }\n",
              "</style>\n",
              "<table border=\"1\" class=\"dataframe\">\n",
              "  <thead>\n",
              "    <tr style=\"text-align: right;\">\n",
              "      <th></th>\n",
              "      <th>RR Interval</th>\n",
              "      <th>Sleep Stage</th>\n",
              "    </tr>\n",
              "  </thead>\n",
              "  <tbody>\n",
              "    <tr>\n",
              "      <th>49668</th>\n",
              "      <td>[0.1484375  0.29296875 0.14453125 0.17578125 0...</td>\n",
              "      <td>0</td>\n",
              "    </tr>\n",
              "    <tr>\n",
              "      <th>49669</th>\n",
              "      <td>[0.15234375 0.29296875 0.1875     0.22265625 0...</td>\n",
              "      <td>0</td>\n",
              "    </tr>\n",
              "    <tr>\n",
              "      <th>49670</th>\n",
              "      <td>[0.33203125 0.23046875 0.20703125 0.296875   0...</td>\n",
              "      <td>0</td>\n",
              "    </tr>\n",
              "    <tr>\n",
              "      <th>49671</th>\n",
              "      <td>[0.4375     0.296875   0.07421875 0.12109375 0...</td>\n",
              "      <td>0</td>\n",
              "    </tr>\n",
              "    <tr>\n",
              "      <th>49672</th>\n",
              "      <td>[0.28515625 0.21484375 0.08203125 0.296875   0...</td>\n",
              "      <td>0</td>\n",
              "    </tr>\n",
              "  </tbody>\n",
              "</table>\n",
              "</div>"
            ],
            "text/plain": [
              "                                             RR Interval  Sleep Stage\n",
              "49668  [0.1484375  0.29296875 0.14453125 0.17578125 0...            0\n",
              "49669  [0.15234375 0.29296875 0.1875     0.22265625 0...            0\n",
              "49670  [0.33203125 0.23046875 0.20703125 0.296875   0...            0\n",
              "49671  [0.4375     0.296875   0.07421875 0.12109375 0...            0\n",
              "49672  [0.28515625 0.21484375 0.08203125 0.296875   0...            0"
            ]
          },
          "metadata": {
            "tags": []
          },
          "execution_count": 1
        }
      ]
    },
    {
      "cell_type": "code",
      "metadata": {
        "id": "cYEDrEE9Kn-y"
      },
      "source": [
        "#writing a function to process the rri_sleep_df rr intervals (initially strings)\n",
        "def process_intervals(rr_string_interval):\n",
        "  nums = []\n",
        "  for char in rr_string_interval.split():\n",
        "    if char[0] == '[':\n",
        "        char = char[1:]\n",
        "    elif char[-1] == ']':\n",
        "        char = char[:-1]\n",
        "    try:\n",
        "        num = eval(char)\n",
        "        nums.append(num)\n",
        "    except:\n",
        "        pass\n",
        "  return nums"
      ],
      "execution_count": 2,
      "outputs": []
    },
    {
      "cell_type": "code",
      "metadata": {
        "id": "27aX5N2_a40I"
      },
      "source": [
        "#making list for rr inteval/sleep stage\n",
        "\n",
        "rr_intervals,sleep_stages = [],[]\n",
        "\n",
        "for row_index in range(len(rri_sleep_df)):\n",
        "  sample = rri_sleep_df.iloc[row_index]\n",
        "  rr_string_interval = sample['RR Interval']\n",
        "  rr_intervals.append(process_intervals(rr_string_interval))\n",
        "  sleep_stages.append(float((sample['Sleep Stage'])))\n"
      ],
      "execution_count": 3,
      "outputs": []
    },
    {
      "cell_type": "code",
      "metadata": {
        "colab": {
          "base_uri": "https://localhost:8080/",
          "height": 315
        },
        "id": "pdAlwZCMLFRU",
        "outputId": "e6f60f6d-b615-4ecf-be3c-203c3a69e7e7"
      },
      "source": [
        "#plotting distrbution of rr_interval array lenghts:\n",
        "\n",
        "import statistics as stats\n",
        "\n",
        "rr_interval_lengths = [len(rr_interval) for rr_interval in rr_intervals]\n",
        "\n",
        "\n",
        "plt.hist(rr_interval_lengths,bins=20)\n",
        "plt.title('Distribution of 30s RR Interval #')\n",
        "plt.show()\n",
        "\n",
        "print(f'Median 30s RR Interval #: {stats.median(rr_interval_lengths)}')\n",
        "print(f'30s RR Interval # Standard Deviation: {stats.stdev(rr_interval_lengths)}')"
      ],
      "execution_count": 4,
      "outputs": [
        {
          "output_type": "display_data",
          "data": {
            "image/png": "[encoded data removed]",
            "text/plain": [
              "<Figure size 432x288 with 1 Axes>"
            ]
          },
          "metadata": {
            "tags": [],
            "needs_background": "light"
          }
        },
        {
          "output_type": "stream",
          "text": [
            "Median 30s RR Interval #: 33\n",
            "30s RR Interval # Standard Deviation: 26.051248622965854\n"
          ],
          "name": "stdout"
        }
      ]
    },
    {
      "cell_type": "code",
      "metadata": {
        "colab": {
          "base_uri": "https://localhost:8080/"
        },
        "id": "0qPYU3r4LTl9",
        "outputId": "5fc95e18-b599-4e1f-934f-3755de805599"
      },
      "source": [
        "#calculating % of samples w/i +-1 SD of the median\n",
        "print(len([rr_interval_length for rr_interval_length in rr_interval_lengths if rr_interval_length in range(33-10,33+10+1)]))\n",
        "len((rr_interval_lengths))"
      ],
      "execution_count": 64,
      "outputs": [
        {
          "output_type": "stream",
          "text": [
            "40293\n"
          ],
          "name": "stdout"
        },
        {
          "output_type": "execute_result",
          "data": {
            "text/plain": [
              "49673"
            ]
          },
          "metadata": {
            "tags": []
          },
          "execution_count": 64
        }
      ]
    },
    {
      "cell_type": "code",
      "metadata": {
        "colab": {
          "base_uri": "https://localhost:8080/"
        },
        "id": "wOXfiMjARjaS",
        "outputId": "cfcf613e-6072-42f3-d4ff-0cf75bef0fd1"
      },
      "source": [
        "#clipping valid rr interval range to 7 --> 59 will ensure model is generalizable to 90% of the population\n",
        "valid_rr_intervals = [rr_interval for rr_interval in rr_intervals if len(rr_interval) in range(33-10,33+10+1)]\n",
        "valid_sleep_stage_indicies = [index for index,rr_interval in enumerate(rr_intervals) if len(rr_interval) in range(33-10,33+10+1)]\n",
        "valid_sleep_stages = [sleep_stages[index] for index in valid_sleep_stage_indicies]\n",
        "#adjusting sleep_stages list for binary classification between awake(0) and sleep (1-5)\n",
        "valid_sleep_stages = np.array(valid_sleep_stages)\n",
        "valid_sleep_stages[valid_sleep_stages>=1] = 1\n",
        "print(len(valid_rr_intervals))\n",
        "print(len(valid_sleep_stages))"
      ],
      "execution_count": 65,
      "outputs": [
        {
          "output_type": "stream",
          "text": [
            "40293\n",
            "40293\n"
          ],
          "name": "stdout"
        }
      ]
    },
    {
      "cell_type": "code",
      "metadata": {
        "id": "Qah06AnNTcv0"
      },
      "source": [
        "#noramlizing/scaling all rr intervals\n",
        "from sklearn.preprocessing import RobustScaler\n",
        "\n",
        "clean_rr_intervals = [0]*len(valid_rr_intervals)\n",
        "\n",
        "for index,dirty_rr_interval in enumerate(valid_rr_intervals):\n",
        "  transformer = RobustScaler().fit(np.array(dirty_rr_interval).reshape(-1,1))\n",
        "  transformed_arr = transformer.transform(np.array(dirty_rr_interval).reshape(-1,1))\n",
        "  transformed_arr = transformed_arr.T\n",
        "  clean_rr_intervals[index] = transformed_arr.tolist()[0]"
      ],
      "execution_count": 66,
      "outputs": []
    },
    {
      "cell_type": "code",
      "metadata": {
        "colab": {
          "base_uri": "https://localhost:8080/"
        },
        "id": "tRTdP1WqU4n_",
        "outputId": "cc6c9f08-c429-44dd-f8aa-6bedb675bbb6"
      },
      "source": [
        "#padding zeros to end of smaller rr interval arrays\n",
        "max_rr_interval_num = max([len(rr_interval) for rr_interval in clean_rr_intervals])\n",
        "for rr_interval in clean_rr_intervals:\n",
        "  if len(rr_interval)<max_rr_interval_num:\n",
        "    add_zero_num = max_rr_interval_num-len(rr_interval)\n",
        "    for _ in range(add_zero_num):\n",
        "      rr_interval.append(0)\n",
        "#renaming clearn_rr_intervals --> RR_intervals\n",
        "RR_intervals = clean_rr_intervals\n",
        "RR_intervals = np.array(RR_intervals)\n",
        "print(RR_intervals.shape)"
      ],
      "execution_count": 67,
      "outputs": [
        {
          "output_type": "stream",
          "text": [
            "(40293, 43)\n"
          ],
          "name": "stdout"
        }
      ]
    },
    {
      "cell_type": "code",
      "metadata": {
        "id": "N7HsPltJ-7Ub"
      },
      "source": [
        "#pulling function that makes recurrance plots on passed series data\n",
        "from sklearn import metrics\n",
        "\n",
        "def recurrence_plot(s, eps=None, steps=None):\n",
        "  if eps==None: eps=0.1\n",
        "  if steps==None: steps=10\n",
        "  d = metrics.pairwise.pairwise_distances(s)\n",
        "  d = np.floor(d / eps)\n",
        "  d[d > steps] = steps\n",
        "  #Z = squareform(d)\n",
        "  return d"
      ],
      "execution_count": 82,
      "outputs": []
    },
    {
      "cell_type": "code",
      "metadata": {
        "colab": {
          "base_uri": "https://localhost:8080/",
          "height": 645
        },
        "id": "JMqNXKaW-_9t",
        "outputId": "36fb97e4-2054-4555-ab0d-f692f1307f9a"
      },
      "source": [
        "#pulling an awake vs sleep stage index\n",
        "\n",
        "#making a temp list so we can pull indices where person was awake vs in varying degrees of sleep\n",
        "valid_sleep_stages_list = list(valid_sleep_stages)\n",
        "awake_indicies = [index for index,sleep_stage in enumerate(valid_sleep_stages_list) if sleep_stage==0]\n",
        "sleep_indicies = [index for index,sleep_stage in enumerate(valid_sleep_stages_list) if sleep_stage==1]\n",
        "\n",
        "#making a recurrance plot of randomly chosen awake vs sleep\n",
        "rand_wake_index = np.random.choice(awake_indicies)\n",
        "rand_sleep_index = np.random.choice(sleep_indicies)\n",
        "\n",
        "awake_rp = recurrence_plot(RR_intervals[rand_wake_index,:].reshape(-1,1))\n",
        "sleep_rp = recurrence_plot(RR_intervals[rand_sleep_index,:].reshape(-1,1))\n",
        "\n",
        "fig, axs = plt.subplots(1,2,figsize=(20,10))\n",
        "fig.suptitle('Comparison of Awake vs Sleep Recurrence Plots')\n",
        "axs[0].imshow(awake_rp)\n",
        "axs[0].set_title('Awake Recurrence Plot')\n",
        "axs[1].imshow(sleep_rp)\n",
        "axs[1].set_title('Sleep Recurrence Plot')\n",
        "fig.show()"
      ],
      "execution_count": 83,
      "outputs": [
        {
          "output_type": "display_data",
          "data": {
            "image/png": "[encoded data removed]",
            "text/plain": [
              "<Figure size 1440x720 with 2 Axes>"
            ]
          },
          "metadata": {
            "tags": [],
            "needs_background": "light"
          }
        }
      ]
    },
    {
      "cell_type": "code",
      "metadata": {
        "colab": {
          "base_uri": "https://localhost:8080/"
        },
        "id": "f2eNuUDg_RH7",
        "outputId": "82b070ee-4568-4df8-ed78-757c96f56be1"
      },
      "source": [
        "from sklearn.preprocessing import normalize\n",
        "#applying the rp function so each interval so we can create our X database\n",
        "X_data = np.empty((40293,43,43))\n",
        "\n",
        "for index in range(X_data.shape[0]):\n",
        "  RR_interval = RR_intervals[index].reshape(-1,1)\n",
        "  interval_rp = recurrence_plot(RR_interval)\n",
        "  interval_rp = normalize(interval_rp)\n",
        "  X_data[index,:,:] = interval_rp\n",
        "print(X_data.shape)"
      ],
      "execution_count": 84,
      "outputs": [
        {
          "output_type": "stream",
          "text": [
            "(40293, 43, 43)\n"
          ],
          "name": "stdout"
        }
      ]
    },
    {
      "cell_type": "code",
      "metadata": {
        "id": "cCMY_Jjp_hcg"
      },
      "source": [
        "#test-train splitting our data\n",
        "from sklearn.model_selection import train_test_split\n",
        "X_train, X_test, y_train, y_test = train_test_split(X_data, valid_sleep_stages, test_size=0.1, shuffle=True)\n",
        "#reshaping x vectors to be 4d\n",
        "x_train = X_train.reshape(X_train.shape[0], 43,43,1)\n",
        "x_test = X_test.reshape(X_test.shape[0], 43,43,1)"
      ],
      "execution_count": 85,
      "outputs": []
    },
    {
      "cell_type": "code",
      "metadata": {
        "colab": {
          "base_uri": "https://localhost:8080/"
        },
        "id": "CQ94ToFI_oDm",
        "outputId": "c64e68a0-63a6-4ea0-e002-fd9bdcc666f6"
      },
      "source": [
        "#building CNN to classify between awake vs sleep\n",
        "from keras.models import Sequential\n",
        "from keras import layers\n",
        "from keras.layers import Dense, Dropout, Activation, Flatten\n",
        "from keras.layers import Conv2D, MaxPooling2D, LeakyReLU\n",
        "from keras import metrics\n",
        "from keras import optimizers\n",
        "\n",
        "model = Sequential(name='Sleep_Classifier_v1')\n",
        "\n",
        "model.add(Conv2D(filters=16,kernel_size=2,strides=(1, 1),padding='valid',activation='relu',input_shape=(43,43,1), data_format='channels_last'))\n",
        "model.add(MaxPooling2D(pool_size=(2,2),strides=(2,2),padding='valid'))\n",
        "model.add(Dropout(0.1))\n",
        "model.add(layers.Conv2D(filters=32,kernel_size=2,strides=(1, 1),padding='valid',activation='relu'))\n",
        "model.add(layers.MaxPooling2D(pool_size=(2, 2),strides=(2,2),padding='valid'))\n",
        "model.add(Dropout(0.1))\n",
        "model.add(layers.Conv2D(filters=64,kernel_size=2,strides=(1, 1),padding='valid',activation='relu'))\n",
        "model.add(layers.MaxPooling2D(pool_size=(2, 2),strides=(2,2),padding='valid'))\n",
        "model.add(Dropout(0.1))  \n",
        "model.add(Flatten())\n",
        "model.add(Dense(512, activation='relu'))\n",
        "model.add(Dropout(0.1))\n",
        "model.add(Dense(256, activation='relu'))\n",
        "model.add(Dropout(0.1))\n",
        "model.add(Dense(1, activation='sigmoid'))\n",
        "\n",
        "model.compile(loss='binary_crossentropy', optimizer='ADAM',metrics=['accuracy'])\n",
        "model.summary()"
      ],
      "execution_count": 89,
      "outputs": [
        {
          "output_type": "stream",
          "text": [
            "Model: \"Sleep_Classifier_v1\"\n",
            "_________________________________________________________________\n",
            "Layer (type)                 Output Shape              Param #   \n",
            "=================================================================\n",
            "conv2d_89 (Conv2D)           (None, 42, 42, 16)        80        \n",
            "_________________________________________________________________\n",
            "max_pooling2d_78 (MaxPooling (None, 21, 21, 16)        0         \n",
            "_________________________________________________________________\n",
            "dropout_144 (Dropout)        (None, 21, 21, 16)        0         \n",
            "_________________________________________________________________\n",
            "conv2d_90 (Conv2D)           (None, 20, 20, 32)        2080      \n",
            "_________________________________________________________________\n",
            "max_pooling2d_79 (MaxPooling (None, 10, 10, 32)        0         \n",
            "_________________________________________________________________\n",
            "dropout_145 (Dropout)        (None, 10, 10, 32)        0         \n",
            "_________________________________________________________________\n",
            "conv2d_91 (Conv2D)           (None, 9, 9, 64)          8256      \n",
            "_________________________________________________________________\n",
            "max_pooling2d_80 (MaxPooling (None, 4, 4, 64)          0         \n",
            "_________________________________________________________________\n",
            "dropout_146 (Dropout)        (None, 4, 4, 64)          0         \n",
            "_________________________________________________________________\n",
            "flatten_23 (Flatten)         (None, 1024)              0         \n",
            "_________________________________________________________________\n",
            "dense_80 (Dense)             (None, 512)               524800    \n",
            "_________________________________________________________________\n",
            "dropout_147 (Dropout)        (None, 512)               0         \n",
            "_________________________________________________________________\n",
            "dense_81 (Dense)             (None, 256)               131328    \n",
            "_________________________________________________________________\n",
            "dropout_148 (Dropout)        (None, 256)               0         \n",
            "_________________________________________________________________\n",
            "dense_82 (Dense)             (None, 1)                 257       \n",
            "=================================================================\n",
            "Total params: 666,801\n",
            "Trainable params: 666,801\n",
            "Non-trainable params: 0\n",
            "_________________________________________________________________\n"
          ],
          "name": "stdout"
        }
      ]
    },
    {
      "cell_type": "code",
      "metadata": {
        "colab": {
          "base_uri": "https://localhost:8080/",
          "height": 1000
        },
        "id": "k-OqloXuB-0w",
        "outputId": "fede2da5-3a42-4701-8906-55b90e521a6f"
      },
      "source": [
        "#training model\n",
        "history = model.fit(x_train, y_train, epochs=20, validation_split=0.05, batch_size=32,shuffle=True)\n",
        "\n",
        "#plotting history\n",
        "pd.DataFrame(history.history).plot(figsize=(8,5))\n",
        "plt.show()\n",
        "\n",
        "#testing model\n",
        "results = model.evaluate(x_test, y_test)\n",
        "print(\"test loss, test acc:\", results)"
      ],
      "execution_count": 90,
      "outputs": [
        {
          "output_type": "stream",
          "text": [
            "Epoch 1/20\n",
            "1077/1077 [==============================] - 5s 4ms/step - loss: 0.5560 - accuracy: 0.7493 - val_loss: 0.5441 - val_accuracy: 0.7624\n",
            "Epoch 2/20\n",
            "1077/1077 [==============================] - 4s 4ms/step - loss: 0.5426 - accuracy: 0.7494 - val_loss: 0.5198 - val_accuracy: 0.7624\n",
            "Epoch 3/20\n",
            "1077/1077 [==============================] - 4s 4ms/step - loss: 0.5388 - accuracy: 0.7487 - val_loss: 0.5158 - val_accuracy: 0.7607\n",
            "Epoch 4/20\n",
            "1077/1077 [==============================] - 4s 4ms/step - loss: 0.5310 - accuracy: 0.7506 - val_loss: 0.5108 - val_accuracy: 0.7602\n",
            "Epoch 5/20\n",
            "1077/1077 [==============================] - 4s 4ms/step - loss: 0.5317 - accuracy: 0.7481 - val_loss: 0.5065 - val_accuracy: 0.7613\n",
            "Epoch 6/20\n",
            "1077/1077 [==============================] - 4s 4ms/step - loss: 0.5247 - accuracy: 0.7552 - val_loss: 0.5204 - val_accuracy: 0.7552\n",
            "Epoch 7/20\n",
            "1077/1077 [==============================] - 4s 4ms/step - loss: 0.5207 - accuracy: 0.7535 - val_loss: 0.5093 - val_accuracy: 0.7619\n",
            "Epoch 8/20\n",
            "1077/1077 [==============================] - 4s 4ms/step - loss: 0.5217 - accuracy: 0.7567 - val_loss: 0.5167 - val_accuracy: 0.7641\n",
            "Epoch 9/20\n",
            "1077/1077 [==============================] - 4s 4ms/step - loss: 0.5185 - accuracy: 0.7554 - val_loss: 0.5214 - val_accuracy: 0.7641\n",
            "Epoch 10/20\n",
            "1077/1077 [==============================] - 4s 4ms/step - loss: 0.5135 - accuracy: 0.7578 - val_loss: 0.5081 - val_accuracy: 0.7668\n",
            "Epoch 11/20\n",
            "1077/1077 [==============================] - 4s 4ms/step - loss: 0.5095 - accuracy: 0.7618 - val_loss: 0.5015 - val_accuracy: 0.7723\n",
            "Epoch 12/20\n",
            "1077/1077 [==============================] - 4s 4ms/step - loss: 0.5142 - accuracy: 0.7605 - val_loss: 0.5084 - val_accuracy: 0.7707\n",
            "Epoch 13/20\n",
            "1077/1077 [==============================] - 4s 4ms/step - loss: 0.5140 - accuracy: 0.7580 - val_loss: 0.5072 - val_accuracy: 0.7663\n",
            "Epoch 14/20\n",
            "1077/1077 [==============================] - 4s 3ms/step - loss: 0.5064 - accuracy: 0.7637 - val_loss: 0.5070 - val_accuracy: 0.7663\n",
            "Epoch 15/20\n",
            "1077/1077 [==============================] - 4s 4ms/step - loss: 0.5061 - accuracy: 0.7638 - val_loss: 0.5102 - val_accuracy: 0.7679\n",
            "Epoch 16/20\n",
            "1077/1077 [==============================] - 4s 4ms/step - loss: 0.5007 - accuracy: 0.7682 - val_loss: 0.5084 - val_accuracy: 0.7690\n",
            "Epoch 17/20\n",
            "1077/1077 [==============================] - 4s 3ms/step - loss: 0.5053 - accuracy: 0.7616 - val_loss: 0.5231 - val_accuracy: 0.7663\n",
            "Epoch 18/20\n",
            "1077/1077 [==============================] - 4s 4ms/step - loss: 0.5030 - accuracy: 0.7659 - val_loss: 0.5106 - val_accuracy: 0.7657\n",
            "Epoch 19/20\n",
            "1077/1077 [==============================] - 4s 4ms/step - loss: 0.4931 - accuracy: 0.7725 - val_loss: 0.5141 - val_accuracy: 0.7707\n",
            "Epoch 20/20\n",
            "1077/1077 [==============================] - 4s 4ms/step - loss: 0.5011 - accuracy: 0.7682 - val_loss: 0.5090 - val_accuracy: 0.7778\n"
          ],
          "name": "stdout"
        },
        {
          "output_type": "display_data",
          "data": {
            "image/png": "[encoded data removed]",
            "text/plain": [
              "<Figure size 576x360 with 1 Axes>"
            ]
          },
          "metadata": {
            "tags": [],
            "needs_background": "light"
          }
        },
        {
          "output_type": "stream",
          "text": [
            "126/126 [==============================] - 0s 2ms/step - loss: 0.5244 - accuracy: 0.7494\n",
            "test loss, test acc: [0.5243821144104004, 0.7493796348571777]\n"
          ],
          "name": "stdout"
        }
      ]
    },
    {
      "cell_type": "code",
      "metadata": {
        "colab": {
          "base_uri": "https://localhost:8080/"
        },
        "id": "Yl9FjYNqEaZK",
        "outputId": "2dac840b-b5be-4dff-e4b0-49720b7a437d"
      },
      "source": [
        "#building CNN to classify between awake vs sleep\n",
        "from keras.models import Sequential\n",
        "from keras import layers\n",
        "from keras.layers import Dense, Dropout, Activation, Flatten\n",
        "from keras.layers import Conv2D, MaxPooling2D, LeakyReLU\n",
        "from keras import metrics\n",
        "from keras import optimizers\n",
        "\n",
        "model = Sequential(name='Sleep_Classifier_v2')\n",
        "\n",
        "model.add(Conv2D(filters=16,kernel_size=2,strides=(1, 1),padding='valid',activation='relu',input_shape=(59,59,1), data_format='channels_last'))\n",
        "model.add(layers.MaxPooling2D(pool_size=(2, 2),strides=(2,2),padding='valid'))\n",
        "model.add(Dropout(0.1)) \n",
        "model.add(layers.Conv2D(filters=32,kernel_size=2,strides=(1, 1),padding='valid',activation='relu'))\n",
        "model.add(Dropout(0.1)) \n",
        "model.add(layers.Conv2D(filters=64,kernel_size=2,strides=(1, 1),padding='valid',activation='relu'))\n",
        "model.add(Dropout(0.1)) \n",
        "model.add(layers.Conv2D(filters=128,kernel_size=2,strides=(1, 1),padding='valid',activation='relu'))\n",
        "model.add(layers.MaxPooling2D(pool_size=(2, 2),strides=(2,2),padding='valid'))\n",
        "model.add(Dropout(0.1))  \n",
        "model.add(Flatten())\n",
        "model.add(Dense(512, activation='relu'))\n",
        "model.add(Dropout(0.1))\n",
        "model.add(Dense(512, activation='relu'))\n",
        "model.add(Dropout(0.1))\n",
        "model.add(Dense(256, activation='relu'))\n",
        "model.add(Dropout(0.1))\n",
        "model.add(Dense(1, activation='sigmoid'))\n",
        "\n",
        "model.compile(loss='binary_crossentropy', optimizer='ADAM',metrics=['accuracy'])\n",
        "model.summary()"
      ],
      "execution_count": 52,
      "outputs": [
        {
          "output_type": "stream",
          "text": [
            "Model: \"Sleep_Classifier_v2\"\n",
            "_________________________________________________________________\n",
            "Layer (type)                 Output Shape              Param #   \n",
            "=================================================================\n",
            "conv2d_60 (Conv2D)           (None, 58, 58, 16)        80        \n",
            "_________________________________________________________________\n",
            "max_pooling2d_51 (MaxPooling (None, 29, 29, 16)        0         \n",
            "_________________________________________________________________\n",
            "dropout_92 (Dropout)         (None, 29, 29, 16)        0         \n",
            "_________________________________________________________________\n",
            "conv2d_61 (Conv2D)           (None, 28, 28, 32)        2080      \n",
            "_________________________________________________________________\n",
            "dropout_93 (Dropout)         (None, 28, 28, 32)        0         \n",
            "_________________________________________________________________\n",
            "conv2d_62 (Conv2D)           (None, 27, 27, 64)        8256      \n",
            "_________________________________________________________________\n",
            "dropout_94 (Dropout)         (None, 27, 27, 64)        0         \n",
            "_________________________________________________________________\n",
            "conv2d_63 (Conv2D)           (None, 26, 26, 128)       32896     \n",
            "_________________________________________________________________\n",
            "max_pooling2d_52 (MaxPooling (None, 13, 13, 128)       0         \n",
            "_________________________________________________________________\n",
            "dropout_95 (Dropout)         (None, 13, 13, 128)       0         \n",
            "_________________________________________________________________\n",
            "flatten_15 (Flatten)         (None, 21632)             0         \n",
            "_________________________________________________________________\n",
            "dense_49 (Dense)             (None, 512)               11076096  \n",
            "_________________________________________________________________\n",
            "dropout_96 (Dropout)         (None, 512)               0         \n",
            "_________________________________________________________________\n",
            "dense_50 (Dense)             (None, 512)               262656    \n",
            "_________________________________________________________________\n",
            "dropout_97 (Dropout)         (None, 512)               0         \n",
            "_________________________________________________________________\n",
            "dense_51 (Dense)             (None, 256)               131328    \n",
            "_________________________________________________________________\n",
            "dropout_98 (Dropout)         (None, 256)               0         \n",
            "_________________________________________________________________\n",
            "dense_52 (Dense)             (None, 1)                 257       \n",
            "=================================================================\n",
            "Total params: 11,513,649\n",
            "Trainable params: 11,513,649\n",
            "Non-trainable params: 0\n",
            "_________________________________________________________________\n"
          ],
          "name": "stdout"
        }
      ]
    },
    {
      "cell_type": "code",
      "metadata": {
        "colab": {
          "base_uri": "https://localhost:8080/",
          "height": 1000
        },
        "id": "sPqsGU3hKgrN",
        "outputId": "326cd801-9439-49a8-a53a-66cb12e28802"
      },
      "source": [
        "#training model\n",
        "history = model.fit(x_train, y_train, epochs=20, validation_split=0.1, batch_size=32,shuffle=True)\n",
        "\n",
        "#plotting history\n",
        "pd.DataFrame(history.history).plot(figsize=(8,5))\n",
        "plt.show()\n",
        "\n",
        "#testing model\n",
        "results = model.evaluate(x_test, y_test)\n",
        "print(\"test loss, test acc:\", results)"
      ],
      "execution_count": 53,
      "outputs": [
        {
          "output_type": "stream",
          "text": [
            "Epoch 1/20\n",
            "964/964 [==============================] - 8s 7ms/step - loss: 0.5587 - accuracy: 0.7471 - val_loss: 0.5529 - val_accuracy: 0.7431\n",
            "Epoch 2/20\n",
            "964/964 [==============================] - 7s 7ms/step - loss: 0.5385 - accuracy: 0.7552 - val_loss: 0.5409 - val_accuracy: 0.7431\n",
            "Epoch 3/20\n",
            "964/964 [==============================] - 7s 7ms/step - loss: 0.5322 - accuracy: 0.7546 - val_loss: 0.5468 - val_accuracy: 0.7387\n",
            "Epoch 4/20\n",
            "964/964 [==============================] - 7s 7ms/step - loss: 0.5250 - accuracy: 0.7559 - val_loss: 0.5329 - val_accuracy: 0.7439\n",
            "Epoch 5/20\n",
            "964/964 [==============================] - 7s 7ms/step - loss: 0.5233 - accuracy: 0.7544 - val_loss: 0.5310 - val_accuracy: 0.7477\n",
            "Epoch 6/20\n",
            "964/964 [==============================] - 7s 7ms/step - loss: 0.5139 - accuracy: 0.7608 - val_loss: 0.5308 - val_accuracy: 0.7469\n",
            "Epoch 7/20\n",
            "964/964 [==============================] - 7s 7ms/step - loss: 0.5153 - accuracy: 0.7588 - val_loss: 0.5340 - val_accuracy: 0.7486\n",
            "Epoch 8/20\n",
            "964/964 [==============================] - 7s 7ms/step - loss: 0.5058 - accuracy: 0.7658 - val_loss: 0.5405 - val_accuracy: 0.7466\n",
            "Epoch 9/20\n",
            "964/964 [==============================] - 7s 7ms/step - loss: 0.5025 - accuracy: 0.7682 - val_loss: 0.5302 - val_accuracy: 0.7442\n",
            "Epoch 10/20\n",
            "964/964 [==============================] - 7s 7ms/step - loss: 0.4942 - accuracy: 0.7711 - val_loss: 0.5578 - val_accuracy: 0.7501\n",
            "Epoch 11/20\n",
            "964/964 [==============================] - 7s 7ms/step - loss: 0.4912 - accuracy: 0.7797 - val_loss: 0.5372 - val_accuracy: 0.7536\n",
            "Epoch 12/20\n",
            "964/964 [==============================] - 7s 7ms/step - loss: 0.4848 - accuracy: 0.7759 - val_loss: 0.5632 - val_accuracy: 0.7504\n",
            "Epoch 13/20\n",
            "964/964 [==============================] - 7s 7ms/step - loss: 0.4732 - accuracy: 0.7886 - val_loss: 0.5449 - val_accuracy: 0.7501\n",
            "Epoch 14/20\n",
            "964/964 [==============================] - 7s 7ms/step - loss: 0.4600 - accuracy: 0.7938 - val_loss: 0.5818 - val_accuracy: 0.7469\n",
            "Epoch 15/20\n",
            "964/964 [==============================] - 7s 7ms/step - loss: 0.4476 - accuracy: 0.7998 - val_loss: 0.6004 - val_accuracy: 0.7451\n",
            "Epoch 16/20\n",
            "964/964 [==============================] - 7s 7ms/step - loss: 0.4286 - accuracy: 0.8063 - val_loss: 0.5876 - val_accuracy: 0.7428\n",
            "Epoch 17/20\n",
            "964/964 [==============================] - 7s 7ms/step - loss: 0.4181 - accuracy: 0.8144 - val_loss: 0.5919 - val_accuracy: 0.7393\n",
            "Epoch 18/20\n",
            "964/964 [==============================] - 7s 7ms/step - loss: 0.3958 - accuracy: 0.8240 - val_loss: 0.5833 - val_accuracy: 0.7410\n",
            "Epoch 19/20\n",
            "964/964 [==============================] - 7s 7ms/step - loss: 0.3782 - accuracy: 0.8347 - val_loss: 0.6419 - val_accuracy: 0.7445\n",
            "Epoch 20/20\n",
            "964/964 [==============================] - 7s 7ms/step - loss: 0.3641 - accuracy: 0.8417 - val_loss: 0.6446 - val_accuracy: 0.7410\n"
          ],
          "name": "stdout"
        },
        {
          "output_type": "display_data",
          "data": {
            "image/png": "[encoded data removed]",
            "text/plain": [
              "<Figure size 576x360 with 1 Axes>"
            ]
          },
          "metadata": {
            "tags": [],
            "needs_background": "light"
          }
        },
        {
          "output_type": "stream",
          "text": [
            "189/189 [==============================] - 1s 3ms/step - loss: 0.6422 - accuracy: 0.7457\n",
            "test loss, test acc: [0.6421728730201721, 0.7456982135772705]\n"
          ],
          "name": "stdout"
        }
      ]
    },
    {
      "cell_type": "code",
      "metadata": {
        "id": "bbUCWOh3K3QK"
      },
      "source": [
        ""
      ],
      "execution_count": null,
      "outputs": []
    }
  ]
}