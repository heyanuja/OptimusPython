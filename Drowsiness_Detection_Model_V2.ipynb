{
  "nbformat": 4,
  "nbformat_minor": 0,
  "metadata": {
    "colab": {
      "name": "Drowsiness_Detection_Model_V2.ipynb",
      "provenance": []
    },
    "kernelspec": {
      "name": "python3",
      "display_name": "Python 3"
    },
    "accelerator": "GPU"
  },
  "cells": [
    {
      "cell_type": "code",
      "metadata": {
        "colab": {
          "base_uri": "https://localhost:8080/",
          "height": 204
        },
        "id": "agNlBcRpJdO9",
        "outputId": "7b22ebe5-c61c-4592-a197-5ca773ca8727"
      },
      "source": [
        "#reading raw rr interval vs sleep grade into a dataframe:\n",
        "import pandas as pd\n",
        "import numpy as np\n",
        "import pickle\n",
        "import matplotlib.pyplot as plt\n",
        "rri_sleep_df = pd.read_csv('/content/drive/MyDrive/Colab Notebooks/Driver_Drowsiness/RRIS_Database.csv',)\n",
        "rri_sleep_df = rri_sleep_df[['RR Interval','Sleep Stage']]\n",
        "rri_sleep_df.tail()"
      ],
      "execution_count": 1,
      "outputs": [
        {
          "output_type": "execute_result",
          "data": {
            "text/html": [
              "<div>\n",
              "<style scoped>\n",
              "    .dataframe tbody tr th:only-of-type {\n",
              "        vertical-align: middle;\n",
              "    }\n",
              "\n",
              "    .dataframe tbody tr th {\n",
              "        vertical-align: top;\n",
              "    }\n",
              "\n",
              "    .dataframe thead th {\n",
              "        text-align: right;\n",
              "    }\n",
              "</style>\n",
              "<table border=\"1\" class=\"dataframe\">\n",
              "  <thead>\n",
              "    <tr style=\"text-align: right;\">\n",
              "      <th></th>\n",
              "      <th>RR Interval</th>\n",
              "      <th>Sleep Stage</th>\n",
              "    </tr>\n",
              "  </thead>\n",
              "  <tbody>\n",
              "    <tr>\n",
              "      <th>106508</th>\n",
              "      <td>[0.41015625, 0.55859375, 0.67578125, 27.71484375]</td>\n",
              "      <td>0</td>\n",
              "    </tr>\n",
              "    <tr>\n",
              "      <th>106509</th>\n",
              "      <td>[2.890625, 3.33984375, 0.41015625, 22.328125]</td>\n",
              "      <td>0</td>\n",
              "    </tr>\n",
              "    <tr>\n",
              "      <th>106510</th>\n",
              "      <td>[0.23046875]</td>\n",
              "      <td>0</td>\n",
              "    </tr>\n",
              "    <tr>\n",
              "      <th>106511</th>\n",
              "      <td>[]</td>\n",
              "      <td>0</td>\n",
              "    </tr>\n",
              "    <tr>\n",
              "      <th>106512</th>\n",
              "      <td>[16.12109375, 0.32421875, 1.00390625, 0.847656...</td>\n",
              "      <td>0</td>\n",
              "    </tr>\n",
              "  </tbody>\n",
              "</table>\n",
              "</div>"
            ],
            "text/plain": [
              "                                              RR Interval  Sleep Stage\n",
              "106508  [0.41015625, 0.55859375, 0.67578125, 27.71484375]            0\n",
              "106509      [2.890625, 3.33984375, 0.41015625, 22.328125]            0\n",
              "106510                                       [0.23046875]            0\n",
              "106511                                                 []            0\n",
              "106512  [16.12109375, 0.32421875, 1.00390625, 0.847656...            0"
            ]
          },
          "metadata": {
            "tags": []
          },
          "execution_count": 1
        }
      ]
    },
    {
      "cell_type": "code",
      "metadata": {
        "id": "cYEDrEE9Kn-y"
      },
      "source": [
        "#writing a function to process the rri_sleep_df rr intervals (initially strings)\n",
        "def process_intervals(rr_string_interval):\n",
        "  nums = []\n",
        "  for char in rr_string_interval.split():\n",
        "    if char[0] == '[':\n",
        "        char = char[1:]\n",
        "    elif char[-1] == ']':\n",
        "        char = char[:-1]\n",
        "    try:\n",
        "        num = eval(char)\n",
        "        nums.append(num)\n",
        "    except:\n",
        "        pass\n",
        "  return nums"
      ],
      "execution_count": 2,
      "outputs": []
    },
    {
      "cell_type": "code",
      "metadata": {
        "id": "27aX5N2_a40I"
      },
      "source": [
        "#making list for rr inteval/sleep stage\n",
        "\n",
        "rr_intervals,sleep_stages = [],[]\n",
        "\n",
        "for row_index in range(len(rri_sleep_df)):\n",
        "  sample = rri_sleep_df.iloc[row_index]\n",
        "  rr_string_interval = sample['RR Interval']\n",
        "  rr_string_interval = process_intervals(rr_string_interval)\n",
        "  rr_interval = []\n",
        "  for item in rr_string_interval:\n",
        "    try:\n",
        "      rr_interval.append(item[0])\n",
        "    except:\n",
        "      rr_interval.append(float(item))\n",
        "  rr_intervals.append(rr_interval)\n",
        "  sleep_stages.append(float((sample['Sleep Stage'])))"
      ],
      "execution_count": 3,
      "outputs": []
    },
    {
      "cell_type": "code",
      "metadata": {
        "colab": {
          "base_uri": "https://localhost:8080/",
          "height": 332
        },
        "id": "mXgxNdt0C9OP",
        "outputId": "8c467d3c-7f13-4644-8765-0f4fa362aaa1"
      },
      "source": [
        "import statistics as stats\n",
        "rr_interval_lens = [len(rri) for rri in rr_intervals]\n",
        "plt.title('Distribution of 30s RR interval #')\n",
        "plt.hist(rr_interval_lens,bins=20)\n",
        "plt.show()\n",
        "\n",
        "median = stats.median(rr_interval_lens)\n",
        "std = stats.stdev(rr_interval_lens)\n",
        "\n",
        "print(f'Median: {median}')\n",
        "print(f'Standard Deviation: {std}')\n",
        "\n",
        "\n",
        "ndevs = 1\n",
        "print(len([rri for rri in rr_interval_lens if rri in range(int(median-std*ndevs),int(median+std*ndevs))])/len(rr_interval_lens))"
      ],
      "execution_count": 24,
      "outputs": [
        {
          "output_type": "display_data",
          "data": {
            "image/png": "[encoded data removed]",
            "text/plain": [
              "<Figure size 432x288 with 1 Axes>"
            ]
          },
          "metadata": {
            "tags": [],
            "needs_background": "light"
          }
        },
        {
          "output_type": "stream",
          "text": [
            "Median: 32\n",
            "Standard Deviation: 27.274354249331584\n",
            "0.9046031939763222\n"
          ],
          "name": "stdout"
        }
      ]
    },
    {
      "cell_type": "code",
      "metadata": {
        "colab": {
          "base_uri": "https://localhost:8080/"
        },
        "id": "0qPYU3r4LTl9",
        "outputId": "1711e4af-f219-4b9e-f672-550b5c9d5a95"
      },
      "source": [
        "#calculating # of samples w/i +-3 SD of the median\n",
        "\n",
        "#RR Interval Length Summary Stats\n",
        "#median = 30.31886889\n",
        "#std = 4.42046041854777\n",
        "#ndevs = 3\n",
        "\n",
        "count = 0 \n",
        "for index,rrinterval in enumerate(rr_intervals):\n",
        "  #if len(rrinterval)>=(median-std*ndevs) and len(rrinterval)<=(median+std*ndevs):\n",
        "  if len(rrinterval)>=int(median-std*ndevs) and len(rrinterval)<=int(median+std*ndevs):\n",
        "     if sleep_stages[index]==0 or sleep_stages[index]==1:\n",
        "        count+=1\n",
        "print(count)\n",
        "print()"
      ],
      "execution_count": 25,
      "outputs": [
        {
          "output_type": "stream",
          "text": [
            "31639\n",
            "\n"
          ],
          "name": "stdout"
        }
      ]
    },
    {
      "cell_type": "code",
      "metadata": {
        "id": "vFD8dn9B-09e",
        "colab": {
          "base_uri": "https://localhost:8080/"
        },
        "outputId": "275ef373-9e93-449a-d9dd-4bab86cdc9a2"
      },
      "source": [
        "#trimming dataset to only include rr intervals between lens 17 --> 44 and sleep stages between [0,1]\n",
        "valid_rr_intervals, valid_sleep_stages = [], []\n",
        "for index,rr_interval in enumerate(rr_intervals):\n",
        "  if len(rr_interval)>=int(median-std*ndevs) and len(rr_interval)<=int(median+std*ndevs):\n",
        "    if sleep_stages[index]==0 or sleep_stages[index]==1:\n",
        "      valid_rr_intervals.append(rr_interval)\n",
        "      valid_sleep_stages.append(int(sleep_stages[index]))\n",
        "print(len(valid_rr_intervals))"
      ],
      "execution_count": 27,
      "outputs": [
        {
          "output_type": "stream",
          "text": [
            "31639\n"
          ],
          "name": "stdout"
        }
      ]
    },
    {
      "cell_type": "code",
      "metadata": {
        "id": "Qah06AnNTcv0",
        "colab": {
          "base_uri": "https://localhost:8080/"
        },
        "outputId": "fef6d2b8-75c5-4292-a9bf-c3966c6ea7cf"
      },
      "source": [
        "#noramlizing/scaling all rr intervals\n",
        "from sklearn.preprocessing import RobustScaler\n",
        "\n",
        "clean_rr_intervals = [0]*len(valid_rr_intervals)\n",
        "\n",
        "for index,dirty_rr_interval in enumerate(valid_rr_intervals):\n",
        "  transformer = RobustScaler().fit(np.array(dirty_rr_interval).reshape(-1,1))\n",
        "  transformed_arr = transformer.transform(np.array(dirty_rr_interval).reshape(-1,1))\n",
        "  transformed_arr = transformed_arr.T\n",
        "  clean_rr_intervals[index] = transformed_arr.tolist()[0]\n",
        "print(clean_rr_intervals[0])"
      ],
      "execution_count": 28,
      "outputs": [
        {
          "output_type": "stream",
          "text": [
            "[0.17647058823529413, 0.6470588235294118, 0.4117647058823529, 0.17647058823529413, -1.0, -0.6470588235294118, -0.6470588235294118, -1.1176470588235294, -0.058823529411764705, -0.4117647058823529, 0.17647058823529413, 0.6470588235294118, 0.058823529411764705, 1.0, 0.29411764705882354, 0.4117647058823529, -0.17647058823529413, 0.29411764705882354, 0.4117647058823529, 0.5294117647058824, 0.4117647058823529, 0.5294117647058824, -0.058823529411764705, -0.6470588235294118, -1.1176470588235294, -1.2352941176470589, -0.4117647058823529, -1.2352941176470589, -0.6470588235294118, -0.5294117647058824, -0.29411764705882354, 0.29411764705882354, -0.17647058823529413, 0.29411764705882354]\n"
          ],
          "name": "stdout"
        }
      ]
    },
    {
      "cell_type": "code",
      "metadata": {
        "colab": {
          "base_uri": "https://localhost:8080/"
        },
        "id": "tRTdP1WqU4n_",
        "outputId": "2754d18e-044f-4bb0-af57-110faff6a723"
      },
      "source": [
        "#padding zeros to end of smaller rr interval arrays\n",
        "max_rr_interval_num = max([len(rr_interval) for rr_interval in clean_rr_intervals])\n",
        "for rr_interval in clean_rr_intervals:\n",
        "  if len(rr_interval)<max_rr_interval_num:\n",
        "    add_zero_num = max_rr_interval_num-len(rr_interval)\n",
        "    for _ in range(add_zero_num):\n",
        "      rr_interval.append(0)\n",
        "#renaming clearn_rr_intervals --> RR_intervals\n",
        "RR_intervals = clean_rr_intervals\n",
        "RR_intervals = np.array(RR_intervals)\n",
        "print(RR_intervals.shape)"
      ],
      "execution_count": 29,
      "outputs": [
        {
          "output_type": "stream",
          "text": [
            "(31639, 59)\n"
          ],
          "name": "stdout"
        }
      ]
    },
    {
      "cell_type": "code",
      "metadata": {
        "id": "N7HsPltJ-7Ub"
      },
      "source": [
        "#pulling function that makes recurrance plots on passed series data\n",
        "from sklearn import metrics\n",
        "\n",
        "def recurrence_plot(s, eps=None, steps=None):\n",
        "  if eps==None: eps=0.1\n",
        "  if steps==None: steps=10\n",
        "  d = metrics.pairwise.pairwise_distances(s)\n",
        "  d = np.floor(d / eps)\n",
        "  d[d > steps] = steps\n",
        "  #Z = squareform(d)\n",
        "  return d"
      ],
      "execution_count": 30,
      "outputs": []
    },
    {
      "cell_type": "code",
      "metadata": {
        "colab": {
          "base_uri": "https://localhost:8080/",
          "height": 645
        },
        "id": "JMqNXKaW-_9t",
        "outputId": "1c3c7c71-2247-40ea-cb16-66156269a602"
      },
      "source": [
        "#pulling an awake vs sleep stage index\n",
        "\n",
        "#making a temp list so we can pull indices where person was awake vs in varying degrees of sleep\n",
        "valid_sleep_stages_list = list(valid_sleep_stages)\n",
        "awake_indicies = [index for index,sleep_stage in enumerate(valid_sleep_stages_list) if sleep_stage==0]\n",
        "sleep_indicies = [index for index,sleep_stage in enumerate(valid_sleep_stages_list) if sleep_stage==1]\n",
        "\n",
        "#making a recurrance plot of randomly chosen awake vs sleep\n",
        "rand_wake_index = np.random.choice(awake_indicies)\n",
        "rand_sleep_index = np.random.choice(sleep_indicies)\n",
        "\n",
        "awake_rp = recurrence_plot(RR_intervals[rand_wake_index,:].reshape(-1,1))\n",
        "sleep_rp = recurrence_plot(RR_intervals[rand_sleep_index,:].reshape(-1,1))\n",
        "\n",
        "fig, axs = plt.subplots(1,2,figsize=(20,10))\n",
        "fig.suptitle('Comparison of Awake vs Sleep Recurrence Plots')\n",
        "axs[0].imshow(awake_rp)\n",
        "axs[0].set_title('Awake Recurrence Plot')\n",
        "axs[1].imshow(sleep_rp)\n",
        "axs[1].set_title('Sleep Recurrence Plot')\n",
        "fig.show()"
      ],
      "execution_count": 31,
      "outputs": [
        {
          "output_type": "display_data",
          "data": {
            "image/png": "[encoded data removed]",
            "text/plain": [
              "<Figure size 1440x720 with 2 Axes>"
            ]
          },
          "metadata": {
            "tags": [],
            "needs_background": "light"
          }
        }
      ]
    },
    {
      "cell_type": "code",
      "metadata": {
        "colab": {
          "base_uri": "https://localhost:8080/"
        },
        "id": "f2eNuUDg_RH7",
        "outputId": "4475e6d5-2374-4c6a-c96e-f7685ecec011"
      },
      "source": [
        "from sklearn.preprocessing import normalize\n",
        "#applying the rp function so each interval so we can create our X database\n",
        "X_data = np.empty((31639,59,59))\n",
        "\n",
        "for index in range(X_data.shape[0]):\n",
        "  RR_interval = RR_intervals[index].reshape(-1,1)\n",
        "  interval_rp = recurrence_plot(RR_interval)\n",
        "  interval_rp = normalize(interval_rp)\n",
        "  X_data[index,:,:] = interval_rp\n",
        "print(X_data.shape)"
      ],
      "execution_count": 33,
      "outputs": [
        {
          "output_type": "stream",
          "text": [
            "(31639, 59, 59)\n"
          ],
          "name": "stdout"
        }
      ]
    },
    {
      "cell_type": "code",
      "metadata": {
        "id": "cCMY_Jjp_hcg",
        "colab": {
          "base_uri": "https://localhost:8080/"
        },
        "outputId": "2d3cdd30-7662-45ff-870b-6f62d17e5cfe"
      },
      "source": [
        "#test-train splitting our data\n",
        "from sklearn.model_selection import train_test_split\n",
        "X_train, X_test, y_train, y_test = train_test_split(X_data, np.array(valid_sleep_stages), test_size=0.1, shuffle=True)\n",
        "#reshaping x vectors to be 4d\n",
        "x_train = X_train.reshape(X_train.shape[0], 59,59,1)\n",
        "x_test = X_test.reshape(X_test.shape[0], 59,59,1)\n",
        "print(y_train)"
      ],
      "execution_count": 34,
      "outputs": [
        {
          "output_type": "stream",
          "text": [
            "[0 0 0 ... 0 1 0]\n"
          ],
          "name": "stdout"
        }
      ]
    },
    {
      "cell_type": "code",
      "metadata": {
        "colab": {
          "base_uri": "https://localhost:8080/"
        },
        "id": "CQ94ToFI_oDm",
        "outputId": "6f0952f4-f471-4784-b186-d488632013d3"
      },
      "source": [
        "#building CNN to classify between awake vs sleep\n",
        "from keras.models import Sequential\n",
        "from keras import layers\n",
        "from keras.layers import Dense, Dropout, Activation, Flatten\n",
        "from keras.layers import Conv2D, MaxPooling2D, LeakyReLU\n",
        "from keras import metrics\n",
        "from keras import optimizers\n",
        "\n",
        "model = Sequential(name='Sleep_Classifier_v1')\n",
        "\n",
        "model.add(Conv2D(filters=64,kernel_size=2,strides=(1, 1),padding='valid',activation='relu',input_shape=(59,59,1), data_format='channels_last'))\n",
        "model.add(MaxPooling2D(pool_size=(2,2),strides=(2,2),padding='valid'))\n",
        "model.add(Dropout(0.1))\n",
        "model.add(layers.Conv2D(filters=256,kernel_size=3,strides=(1, 1),padding='valid',activation='relu'))\n",
        "model.add(layers.MaxPooling2D(pool_size=(2, 2),strides=(2,2),padding='valid'))\n",
        "model.add(Dropout(0.1))\n",
        "model.add(layers.Conv2D(filters=512,kernel_size=4,strides=(1, 1),padding='valid',activation='relu'))\n",
        "model.add(layers.MaxPooling2D(pool_size=(2, 2),strides=(2,2),padding='valid'))\n",
        "model.add(Dropout(0.1))\n",
        "model.add(layers.Conv2D(filters=1024,kernel_size=4,strides=(1, 1),padding='valid',activation='relu'))\n",
        "model.add(layers.MaxPooling2D(pool_size=(2, 2),strides=(2,2),padding='valid'))\n",
        "model.add(Dropout(0.1))  \n",
        "model.add(Flatten())\n",
        "model.add(Dense(4096, activation='relu'))\n",
        "model.add(Dropout(0.1))\n",
        "model.add(Dense(2048, activation='relu'))\n",
        "model.add(Dropout(0.1))\n",
        "model.add(Dense(1024, activation='relu'))\n",
        "model.add(Dropout(0.1))\n",
        "model.add(Dense(1, activation='sigmoid'))\n",
        "\n",
        "model.compile(loss='BinaryCrossentropy', optimizer='ADAM',metrics=['accuracy'])\n",
        "model.summary()"
      ],
      "execution_count": 61,
      "outputs": [
        {
          "output_type": "stream",
          "text": [
            "Model: \"Sleep_Classifier_v1\"\n",
            "_________________________________________________________________\n",
            "Layer (type)                 Output Shape              Param #   \n",
            "=================================================================\n",
            "conv2d_58 (Conv2D)           (None, 58, 58, 64)        320       \n",
            "_________________________________________________________________\n",
            "max_pooling2d_58 (MaxPooling (None, 29, 29, 64)        0         \n",
            "_________________________________________________________________\n",
            "dropout_75 (Dropout)         (None, 29, 29, 64)        0         \n",
            "_________________________________________________________________\n",
            "conv2d_59 (Conv2D)           (None, 27, 27, 256)       147712    \n",
            "_________________________________________________________________\n",
            "max_pooling2d_59 (MaxPooling (None, 13, 13, 256)       0         \n",
            "_________________________________________________________________\n",
            "dropout_76 (Dropout)         (None, 13, 13, 256)       0         \n",
            "_________________________________________________________________\n",
            "conv2d_60 (Conv2D)           (None, 10, 10, 512)       2097664   \n",
            "_________________________________________________________________\n",
            "max_pooling2d_60 (MaxPooling (None, 5, 5, 512)         0         \n",
            "_________________________________________________________________\n",
            "dropout_77 (Dropout)         (None, 5, 5, 512)         0         \n",
            "_________________________________________________________________\n",
            "conv2d_61 (Conv2D)           (None, 2, 2, 1024)        8389632   \n",
            "_________________________________________________________________\n",
            "max_pooling2d_61 (MaxPooling (None, 1, 1, 1024)        0         \n",
            "_________________________________________________________________\n",
            "dropout_78 (Dropout)         (None, 1, 1, 1024)        0         \n",
            "_________________________________________________________________\n",
            "flatten_14 (Flatten)         (None, 1024)              0         \n",
            "_________________________________________________________________\n",
            "dense_54 (Dense)             (None, 4096)              4198400   \n",
            "_________________________________________________________________\n",
            "dropout_79 (Dropout)         (None, 4096)              0         \n",
            "_________________________________________________________________\n",
            "dense_55 (Dense)             (None, 2048)              8390656   \n",
            "_________________________________________________________________\n",
            "dropout_80 (Dropout)         (None, 2048)              0         \n",
            "_________________________________________________________________\n",
            "dense_56 (Dense)             (None, 1024)              2098176   \n",
            "_________________________________________________________________\n",
            "dropout_81 (Dropout)         (None, 1024)              0         \n",
            "_________________________________________________________________\n",
            "dense_57 (Dense)             (None, 1)                 1025      \n",
            "=================================================================\n",
            "Total params: 25,323,585\n",
            "Trainable params: 25,323,585\n",
            "Non-trainable params: 0\n",
            "_________________________________________________________________\n"
          ],
          "name": "stdout"
        }
      ]
    },
    {
      "cell_type": "code",
      "metadata": {
        "colab": {
          "base_uri": "https://localhost:8080/",
          "height": 864
        },
        "id": "k-OqloXuB-0w",
        "outputId": "17a96f47-6571-4d51-930e-99ddc75ff821"
      },
      "source": [
        "#training model\n",
        "history = model.fit(x_train, y_train, epochs=15, validation_split=0.1, batch_size=32,shuffle=True)\n",
        "\n",
        "#plotting history\n",
        "pd.DataFrame(history.history).plot(figsize=(8,5))\n",
        "plt.show()\n",
        "\n",
        "#testing model\n",
        "results = model.evaluate(x_test, y_test)\n",
        "print(\"test loss, test acc:\", results)"
      ],
      "execution_count": 62,
      "outputs": [
        {
          "output_type": "stream",
          "text": [
            "Epoch 1/15\n",
            "801/801 [==============================] - 18s 22ms/step - loss: 0.5639 - accuracy: 0.8820 - val_loss: 0.3379 - val_accuracy: 0.8919\n",
            "Epoch 2/15\n",
            "801/801 [==============================] - 18s 22ms/step - loss: 0.3478 - accuracy: 0.8869 - val_loss: 0.3415 - val_accuracy: 0.8919\n",
            "Epoch 3/15\n",
            "801/801 [==============================] - 18s 22ms/step - loss: 0.3520 - accuracy: 0.8833 - val_loss: 0.3400 - val_accuracy: 0.8919\n",
            "Epoch 4/15\n",
            "801/801 [==============================] - 17s 22ms/step - loss: 0.3427 - accuracy: 0.8889 - val_loss: 0.3617 - val_accuracy: 0.8919\n",
            "Epoch 5/15\n",
            "801/801 [==============================] - 18s 22ms/step - loss: 0.3403 - accuracy: 0.8877 - val_loss: 0.3310 - val_accuracy: 0.8919\n",
            "Epoch 6/15\n",
            "801/801 [==============================] - 18s 22ms/step - loss: 0.3414 - accuracy: 0.8883 - val_loss: 0.3393 - val_accuracy: 0.8919\n",
            "Epoch 7/15\n",
            "801/801 [==============================] - 17s 22ms/step - loss: 0.3451 - accuracy: 0.8858 - val_loss: 0.3301 - val_accuracy: 0.8919\n",
            "Epoch 8/15\n",
            "801/801 [==============================] - 18s 22ms/step - loss: 0.3449 - accuracy: 0.8847 - val_loss: 0.3298 - val_accuracy: 0.8919\n",
            "Epoch 9/15\n",
            "801/801 [==============================] - 18s 22ms/step - loss: 0.3417 - accuracy: 0.8861 - val_loss: 0.3354 - val_accuracy: 0.8919\n",
            "Epoch 10/15\n",
            "801/801 [==============================] - 17s 22ms/step - loss: 0.3405 - accuracy: 0.8861 - val_loss: 0.3352 - val_accuracy: 0.8919\n",
            "Epoch 11/15\n",
            "801/801 [==============================] - 18s 22ms/step - loss: 0.3419 - accuracy: 0.8869 - val_loss: 0.3428 - val_accuracy: 0.8919\n",
            "Epoch 12/15\n",
            "801/801 [==============================] - 18s 22ms/step - loss: 0.3461 - accuracy: 0.8847 - val_loss: 0.3380 - val_accuracy: 0.8919\n",
            "Epoch 13/15\n",
            "801/801 [==============================] - 17s 22ms/step - loss: 0.3489 - accuracy: 0.8831 - val_loss: 0.3298 - val_accuracy: 0.8919\n",
            "Epoch 14/15\n",
            "801/801 [==============================] - 17s 22ms/step - loss: 0.3353 - accuracy: 0.8888 - val_loss: 0.3317 - val_accuracy: 0.8919\n",
            "Epoch 15/15\n",
            "801/801 [==============================] - 17s 22ms/step - loss: 0.3386 - accuracy: 0.8869 - val_loss: 0.3294 - val_accuracy: 0.8919\n"
          ],
          "name": "stdout"
        },
        {
          "output_type": "display_data",
          "data": {
            "image/png": "[encoded data removed]",
            "text/plain": [
              "<Figure size 576x360 with 1 Axes>"
            ]
          },
          "metadata": {
            "tags": [],
            "needs_background": "light"
          }
        },
        {
          "output_type": "stream",
          "text": [
            "99/99 [==============================] - 1s 8ms/step - loss: 0.3324 - accuracy: 0.8894\n",
            "test loss, test acc: [0.3323558568954468, 0.8893805146217346]\n"
          ],
          "name": "stdout"
        }
      ]
    },
    {
      "cell_type": "code",
      "metadata": {
        "id": "gNxwCWutE25t"
      },
      "source": [
        ""
      ],
      "execution_count": null,
      "outputs": []
    }
  ]
}