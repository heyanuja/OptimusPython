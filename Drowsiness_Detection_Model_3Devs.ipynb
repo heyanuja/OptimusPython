{
  "nbformat": 4,
  "nbformat_minor": 0,
  "metadata": {
    "colab": {
      "name": "Drowsiness_Detection_Model_V2.ipynb",
      "provenance": []
    },
    "kernelspec": {
      "name": "python3",
      "display_name": "Python 3"
    },
    
    "accelerator": "GPU"
  },
  "cells": [
    {
      "cell_type": "code",
      "metadata": {
        "colab": {
          "base_uri": "https://localhost:8080/",
          "height": 204
        },
        "id": "agNlBcRpJdO9",
        "outputId": "6a437d55-0f72-40e0-f6b0-e671032ba4bc"
      },
      "source": [
        "#reading raw rr interval vs sleep grade into a dataframe:\n",
        "import pandas as pd\n",
        "import numpy as np\n",
        "import pickle\n",
        "import matplotlib.pyplot as plt\n",
        "rri_sleep_df = pd.read_csv('/content/drive/MyDrive/Colab Notebooks/Driver_Drowsiness/RRIS_Database.csv',)\n",
        "rri_sleep_df = rri_sleep_df[['RR Interval','Sleep Stage']]\n",
        "rri_sleep_df.tail()"
      ],
      "execution_count": 1,
      "outputs": [
        {
          "output_type": "execute_result",
          "data": {
            "text/html": [
              "<div>\n",
              "<style scoped>\n",
              "    .dataframe tbody tr th:only-of-type {\n",
              "        vertical-align: middle;\n",
              "    }\n",
              "\n",
              "    .dataframe tbody tr th {\n",
              "        vertical-align: top;\n",
              "    }\n",
              "\n",
              "    .dataframe thead th {\n",
              "        text-align: right;\n",
              "    }\n",
              "</style>\n",
              "<table border=\"1\" class=\"dataframe\">\n",
              "  <thead>\n",
              "    <tr style=\"text-align: right;\">\n",
              "      <th></th>\n",
              "      <th>RR Interval</th>\n",
              "      <th>Sleep Stage</th>\n",
              "    </tr>\n",
              "  </thead>\n",
              "  <tbody>\n",
              "    <tr>\n",
              "      <th>106508</th>\n",
              "      <td>[0.41015625, 0.55859375, 0.67578125, 27.71484375]</td>\n",
              "      <td>0</td>\n",
              "    </tr>\n",
              "    <tr>\n",
              "      <th>106509</th>\n",
              "      <td>[2.890625, 3.33984375, 0.41015625, 22.328125]</td>\n",
              "      <td>0</td>\n",
              "    </tr>\n",
              "    <tr>\n",
              "      <th>106510</th>\n",
              "      <td>[0.23046875]</td>\n",
              "      <td>0</td>\n",
              "    </tr>\n",
              "    <tr>\n",
              "      <th>106511</th>\n",
              "      <td>[]</td>\n",
              "      <td>0</td>\n",
              "    </tr>\n",
              "    <tr>\n",
              "      <th>106512</th>\n",
              "      <td>[16.12109375, 0.32421875, 1.00390625, 0.847656...</td>\n",
              "      <td>0</td>\n",
              "    </tr>\n",
              "  </tbody>\n",
              "</table>\n",
              "</div>"
            ],
            "text/plain": [
              "                                              RR Interval  Sleep Stage\n",
              "106508  [0.41015625, 0.55859375, 0.67578125, 27.71484375]            0\n",
              "106509      [2.890625, 3.33984375, 0.41015625, 22.328125]            0\n",
              "106510                                       [0.23046875]            0\n",
              "106511                                                 []            0\n",
              "106512  [16.12109375, 0.32421875, 1.00390625, 0.847656...            0"
            ]
          },
          "metadata": {
            "tags": []
          },
          "execution_count": 1
        }
      ]
    },
    {
      "cell_type": "code",
      "metadata": {
        "id": "cYEDrEE9Kn-y"
      },
      "source": [
        "#writing a function to process the rri_sleep_df rr intervals (initially strings)\n",
        "def process_intervals(rr_string_interval):\n",
        "  nums = []\n",
        "  for char in rr_string_interval.split():\n",
        "    if char[0] == '[':\n",
        "        char = char[1:]\n",
        "    elif char[-1] == ']':\n",
        "        char = char[:-1]\n",
        "    try:\n",
        "        num = eval(char)\n",
        "        nums.append(num)\n",
        "    except:\n",
        "        pass\n",
        "  return nums"
      ],
      "execution_count": 2,
      "outputs": []
    },
    {
      "cell_type": "code",
      "metadata": {
        "id": "27aX5N2_a40I"
      },
      "source": [
        "#making list for rr inteval/sleep stage\n",
        "rr_intervals,sleep_stages = [],[]\n",
        "\n",
        "for row_index in range(len(rri_sleep_df)):\n",
        "  sample = rri_sleep_df.iloc[row_index]\n",
        "  rr_string_interval = sample['RR Interval']\n",
        "  rr_string_interval = process_intervals(rr_string_interval)\n",
        "  rr_interval = []\n",
        "  for item in rr_string_interval:\n",
        "    try:\n",
        "      rr_interval.append(item[0])\n",
        "    except:\n",
        "      rr_interval.append(float(item))\n",
        "  rr_intervals.append(rr_interval)\n",
        "  sleep_stages.append(float((sample['Sleep Stage'])))"
      ],
      "execution_count": 3,
      "outputs": []
    },
    {
      "cell_type": "code",
      "metadata": {
        "colab": {
          "base_uri": "https://localhost:8080/",
          "height": 332
        },
        "id": "mXgxNdt0C9OP",
        "outputId": "0f3792bd-7002-4719-e995-98a9e23d40e0"
      },
      "source": [
        "#investigating distrbution of heart rates among SHH2 participants\n",
        "import statistics as stats\n",
        "\n",
        "hrv_summary_shhh2 = pd.read_csv('/content/drive/MyDrive/Colab Notebooks/Driver_Drowsiness/shhs2-hrv-summary-0.15.0.csv')\n",
        "\n",
        "heart_rates_s2 = np.array(hrv_summary_shhh2['IHR'])\n",
        "heart_rates_s2 = 0.5*heart_rates_s2\n",
        "\n",
        "rr_intervals_2 = heart_rates_s2 - 1\n",
        "plt.hist(rr_intervals_2,bins=20)\n",
        "plt.title('Distribution of 30s RR Interval #')\n",
        "\n",
        "plt.show()\n",
        "#printing mean/std of of bpm\n",
        "\n",
        "median = stats.median(rr_intervals_2)\n",
        "std = stats.stdev(rr_intervals_2)\n",
        "\n",
        "print(f'Median 30s RR Interval #: {median}')\n",
        "print(f'30s RR Interval # Standard Deviation: {std}')\n",
        "\n",
        "\n",
        "rr_intervals_list_2 = list(rr_intervals_2)\n",
        "\n",
        "nstd = 3\n",
        "\n",
        "intervals_in_range_2 = len([rri for rri in rr_intervals_list_2 if rri>=(median-std*nstd) and rri<=(median+std*nstd+1)])\n",
        "\n",
        "#printing porportion\n",
        "print(f'{(intervals_in_range_2/len(rr_intervals_list_2))*100} % of RR intervals are within {nstd} std of the median {median}')"
      ],
      "execution_count": 4,
      "outputs": [
        {
          "output_type": "display_data",
          "data": {
            "image/png": "[encoded data removed]",
            "text/plain": [
              "<Figure size 432x288 with 1 Axes>"
            ]
          },
          "metadata": {
            "tags": [],
            "needs_background": "light"
          }
        },
        {
          "output_type": "stream",
          "text": [
            "Median 30s RR Interval #: 30.31886889\n",
            "30s RR Interval # Standard Deviation: 4.420460418547776\n",
            "99.18864097363083 % of RR intervals are within 3 std of the median 30.31886889\n"
          ],
          "name": "stdout"
        }
      ]
    },
    {
      "cell_type": "code",
      "metadata": {
        "colab": {
          "base_uri": "https://localhost:8080/"
        },
        "id": "0qPYU3r4LTl9",
        "outputId": "0c2c8be7-e076-4854-bd27-7cd7f267d7d4"
      },
      "source": [
        "#calculating # of samples w/i +-3 SD of the median\n",
        "\n",
        "#RR Interval Length Summary Stats\n",
        "#median = 30.31886889\n",
        "#std = 4.42046041854777\n",
        "#nstd = 3\n",
        "\n",
        "count = 0 \n",
        "for index,rrinterval in enumerate(rr_intervals):\n",
        "  if len(rrinterval)>=int(median-std*nstd) and len(rrinterval)<=int(median+std*nstd):\n",
        "     if sleep_stages[index]==0 or sleep_stages[index]==1:\n",
        "        count+=1\n",
        "print(count)\n",
        "print()"
      ],
      "execution_count": 5,
      "outputs": [
        {
          "output_type": "stream",
          "text": [
            "27350\n",
            "\n"
          ],
          "name": "stdout"
        }
      ]
    },
    {
      "cell_type": "code",
      "metadata": {
        "id": "vFD8dn9B-09e",
        "colab": {
          "base_uri": "https://localhost:8080/"
        },
        "outputId": "e207e036-aa22-4b82-89e8-599728571fd7"
      },
      "source": [
        "#trimming dataset to only include rr intervals between lens 30.0+-3(4.42) and sleep stages between [0,1]\n",
        "valid_rr_intervals, valid_sleep_stages = [], []\n",
        "for index,rr_interval in enumerate(rr_intervals):\n",
        "  if len(rr_interval)>=int(median-std*nstd) and len(rr_interval)<=int(median+std*nstd):\n",
        "    if sleep_stages[index]==0 or sleep_stages[index]==1:\n",
        "      valid_rr_intervals.append(rr_interval)\n",
        "      valid_sleep_stages.append(int(sleep_stages[index]))\n",
        "print(len(valid_rr_intervals))"
      ],
      "execution_count": 6,
      "outputs": [
        {
          "output_type": "stream",
          "text": [
            "27350\n"
          ],
          "name": "stdout"
        }
      ]
    },
    {
      "cell_type": "code",
      "metadata": {
        "id": "Qah06AnNTcv0"
      },
      "source": [
        "#noramlizing/scaling all rr intervals\n",
        "from sklearn.preprocessing import RobustScaler\n",
        "\n",
        "clean_rr_intervals = [0]*len(valid_rr_intervals)\n",
        "\n",
        "for index,dirty_rr_interval in enumerate(valid_rr_intervals):\n",
        "  transformer = RobustScaler().fit(np.array(dirty_rr_interval).reshape(-1,1))\n",
        "  transformed_arr = transformer.transform(np.array(dirty_rr_interval).reshape(-1,1))\n",
        "  transformed_arr = transformed_arr.T\n",
        "  clean_rr_intervals[index] = transformed_arr.tolist()[0]"
      ],
      "execution_count": 7,
      "outputs": []
    },
    {
      "cell_type": "code",
      "metadata": {
        "colab": {
          "base_uri": "https://localhost:8080/"
        },
        "id": "tRTdP1WqU4n_",
        "outputId": "fa12032f-6963-4c37-b93c-847710a65527"
      },
      "source": [
        "#padding zeros to end of smaller rr interval arrays\n",
        "max_rr_interval_num = max([len(rr_interval) for rr_interval in clean_rr_intervals])\n",
        "for rr_interval in clean_rr_intervals:\n",
        "  if len(rr_interval)<max_rr_interval_num:\n",
        "    add_zero_num = max_rr_interval_num-len(rr_interval)\n",
        "    for _ in range(add_zero_num):\n",
        "      rr_interval.append(0)\n",
        "#renaming clearn_rr_intervals --> RR_intervals\n",
        "RR_intervals = clean_rr_intervals\n",
        "RR_intervals = np.array(RR_intervals)\n",
        "print(RR_intervals.shape)"
      ],
      "execution_count": 8,
      "outputs": [
        {
          "output_type": "stream",
          "text": [
            "(27350, 43)\n"
          ],
          "name": "stdout"
        }
      ]
    },
    {
      "cell_type": "code",
      "metadata": {
        "id": "N7HsPltJ-7Ub"
      },
      "source": [
        "#pulling function that makes recurrance plots on passed series data\n",
        "from sklearn import metrics\n",
        "\n",
        "def recurrence_plot(s, eps=None, steps=None):\n",
        "  if eps==None: eps=0.5\n",
        "  if steps==None: steps=10\n",
        "  d = metrics.pairwise.pairwise_distances(s)\n",
        "  d = np.floor(d / eps)\n",
        "  d[d > steps] = steps\n",
        "  #Z = squareform(d)\n",
        "  return d"
      ],
      "execution_count": 9,
      "outputs": []
    },
    {
      "cell_type": "code",
      "metadata": {
        "colab": {
          "base_uri": "https://localhost:8080/",
          "height": 645
        },
        "id": "JMqNXKaW-_9t",
        "outputId": "35bcf84e-2966-46d0-aade-9ea935025c70"
      },
      "source": [
        "#pulling an awake vs sleep stage index\n",
        "\n",
        "#making a temp list so we can pull indices where person was awake vs in varying degrees of sleep\n",
        "valid_sleep_stages_list = list(valid_sleep_stages)\n",
        "awake_indicies = [index for index,sleep_stage in enumerate(valid_sleep_stages_list) if sleep_stage==0]\n",
        "sleep_indicies = [index for index,sleep_stage in enumerate(valid_sleep_stages_list) if sleep_stage==1]\n",
        "\n",
        "#making a recurrance plot of randomly chosen awake vs sleep\n",
        "rand_wake_index = np.random.choice(awake_indicies)\n",
        "rand_sleep_index = np.random.choice(sleep_indicies)\n",
        "\n",
        "awake_rp = recurrence_plot(RR_intervals[rand_wake_index,:].reshape(-1,1))\n",
        "sleep_rp = recurrence_plot(RR_intervals[rand_sleep_index,:].reshape(-1,1))\n",
        "\n",
        "fig, axs = plt.subplots(1,2,figsize=(20,10))\n",
        "fig.suptitle('Comparison of Awake vs Sleep Recurrence Plots')\n",
        "axs[0].imshow(awake_rp)\n",
        "axs[0].set_title('Awake Recurrence Plot')\n",
        "axs[1].imshow(sleep_rp)\n",
        "axs[1].set_title('Sleep Recurrence Plot')\n",
        "fig.show()"
      ],
      "execution_count": 10,
      "outputs": [
        {
          "output_type": "display_data",
          "data": {
            "image/png": "[encoded data removed]",
            "text/plain": [
              "<Figure size 1440x720 with 2 Axes>"
            ]
          },
          "metadata": {
            "tags": [],
            "needs_background": "light"
          }
        }
      ]
    },
    {
      "cell_type": "code",
      "metadata": {
        "colab": {
          "base_uri": "https://localhost:8080/"
        },
        "id": "f2eNuUDg_RH7",
        "outputId": "a29e0bd0-59de-419f-e4a9-74b276670607"
      },
      "source": [
        "from sklearn.preprocessing import normalize\n",
        "#applying the rp function so each interval so we can create our X database\n",
        "X_data = np.empty((RR_intervals.shape[0],RR_intervals.shape[1],RR_intervals.shape[1]))\n",
        "\n",
        "for index in range(X_data.shape[0]):\n",
        "  RR_interval = RR_intervals[index].reshape(-1,1)\n",
        "  interval_rp = recurrence_plot(RR_interval)\n",
        "  interval_rp = normalize(interval_rp)\n",
        "  X_data[index,:,:] = interval_rp\n",
        "print(X_data.shape)"
      ],
      "execution_count": 11,
      "outputs": [
        {
          "output_type": "stream",
          "text": [
            "(27350, 43, 43)\n"
          ],
          "name": "stdout"
        }
      ]
    },
    {
      "cell_type": "code",
      "metadata": {
        "id": "cCMY_Jjp_hcg",
        "colab": {
          "base_uri": "https://localhost:8080/"
        },
        "outputId": "2a7cdc6e-0a51-4891-db1f-09e8448954bc"
      },
      "source": [
        "#test-train splitting our data\n",
        "from sklearn.model_selection import train_test_split\n",
        "X_train, X_test, y_train, y_test = train_test_split(X_data, np.array(valid_sleep_stages), test_size=0.1, shuffle=True)\n",
        "#reshaping x vectors to be 4d\n",
        "x_train = X_train.reshape(X_train.shape[0], X_data.shape[1],X_data.shape[1],1)\n",
        "x_test = X_test.reshape(X_test.shape[0], X_data.shape[1],X_data.shape[1],1)\n",
        "print(x_train.shape)\n",
        "print(x_test.shape)"
      ],
      "execution_count": 12,
      "outputs": [
        {
          "output_type": "stream",
          "text": [
            "(24615, 43, 43, 1)\n",
            "(2735, 43, 43, 1)\n"
          ],
          "name": "stdout"
        }
      ]
    },
    {
      "cell_type": "code",
      "metadata": {
        "colab": {
          "base_uri": "https://localhost:8080/"
        },
        "id": "CQ94ToFI_oDm",
        "outputId": "e403df0b-37c1-4165-ef34-2e30f5d5a593"
      },
      "source": [
        "#building CNN to classify between awake vs sleep\n",
        "from keras.models import Sequential\n",
        "from keras import layers\n",
        "from keras.layers import Dense, Dropout, Activation, Flatten\n",
        "from keras.layers import Conv2D, MaxPooling2D, LeakyReLU\n",
        "from keras import metrics\n",
        "from keras import optimizers\n",
        "\n",
        "model = Sequential(name='Sleep_Classifier_v1')\n",
        "\n",
        "model.add(Conv2D(filters=32,kernel_size=2,strides=(1, 1),padding='valid',activation='relu',input_shape=(x_train.shape[1],x_train.shape[1],1), data_format='channels_last'))\n",
        "model.add(MaxPooling2D(pool_size=(2,2),strides=(2,2),padding='valid'))\n",
        "model.add(Dropout(0.1))\n",
        "model.add(layers.Conv2D(filters=64,kernel_size=2,strides=(1, 1),padding='valid',activation='relu'))\n",
        "model.add(layers.MaxPooling2D(pool_size=(2, 2),strides=(2,2),padding='valid'))\n",
        "model.add(Dropout(0.1))\n",
        "model.add(layers.Conv2D(filters=128,kernel_size=2,strides=(1, 1),padding='valid',activation='relu'))\n",
        "model.add(layers.MaxPooling2D(pool_size=(2, 2),strides=(2,2),padding='valid'))\n",
        "model.add(Dropout(0.1))\n",
        "model.add(layers.Conv2D(filters=256,kernel_size=2,strides=(1, 1),padding='valid',activation='relu'))\n",
        "model.add(layers.MaxPooling2D(pool_size=(2, 2),strides=(2,2),padding='valid'))\n",
        "model.add(Dropout(0.1))  \n",
        "model.add(Flatten())\n",
        "model.add(Dense(256, activation='relu'))\n",
        "model.add(Dropout(0.1))\n",
        "model.add(Dense(1, activation='sigmoid'))\n",
        "\n",
        "model.compile(loss='BinaryCrossentropy', optimizer='ADAM',metrics=['accuracy'])\n",
        "model.summary()"
      ],
      "execution_count": 13,
      "outputs": [
        {
          "output_type": "stream",
          "text": [
            "Model: \"Sleep_Classifier_v1\"\n",
            "_________________________________________________________________\n",
            "Layer (type)                 Output Shape              Param #   \n",
            "=================================================================\n",
            "conv2d (Conv2D)              (None, 42, 42, 32)        160       \n",
            "_________________________________________________________________\n",
            "max_pooling2d (MaxPooling2D) (None, 21, 21, 32)        0         \n",
            "_________________________________________________________________\n",
            "dropout (Dropout)            (None, 21, 21, 32)        0         \n",
            "_________________________________________________________________\n",
            "conv2d_1 (Conv2D)            (None, 20, 20, 64)        8256      \n",
            "_________________________________________________________________\n",
            "max_pooling2d_1 (MaxPooling2 (None, 10, 10, 64)        0         \n",
            "_________________________________________________________________\n",
            "dropout_1 (Dropout)          (None, 10, 10, 64)        0         \n",
            "_________________________________________________________________\n",
            "conv2d_2 (Conv2D)            (None, 9, 9, 128)         32896     \n",
            "_________________________________________________________________\n",
            "max_pooling2d_2 (MaxPooling2 (None, 4, 4, 128)         0         \n",
            "_________________________________________________________________\n",
            "dropout_2 (Dropout)          (None, 4, 4, 128)         0         \n",
            "_________________________________________________________________\n",
            "conv2d_3 (Conv2D)            (None, 3, 3, 256)         131328    \n",
            "_________________________________________________________________\n",
            "max_pooling2d_3 (MaxPooling2 (None, 1, 1, 256)         0         \n",
            "_________________________________________________________________\n",
            "dropout_3 (Dropout)          (None, 1, 1, 256)         0         \n",
            "_________________________________________________________________\n",
            "flatten (Flatten)            (None, 256)               0         \n",
            "_________________________________________________________________\n",
            "dense (Dense)                (None, 256)               65792     \n",
            "_________________________________________________________________\n",
            "dropout_4 (Dropout)          (None, 256)               0         \n",
            "_________________________________________________________________\n",
            "dense_1 (Dense)              (None, 1)                 257       \n",
            "=================================================================\n",
            "Total params: 238,689\n",
            "Trainable params: 238,689\n",
            "Non-trainable params: 0\n",
            "_________________________________________________________________\n"
          ],
          "name": "stdout"
        }
      ]
    },
    {
      "cell_type": "code",
      "metadata": {
        "colab": {
          "base_uri": "https://localhost:8080/",
          "height": 694
        },
        "id": "k-OqloXuB-0w",
        "outputId": "9f830eab-5c16-4183-9881-c7e77e24f009"
      },
      "source": [
        "#training model\n",
        "history = model.fit(x_train, y_train, epochs=10, validation_split=0.1, batch_size=32,shuffle=True)\n",
        "\n",
        "#plotting history\n",
        "pd.DataFrame(history.history).plot(figsize=(8,5))\n",
        "plt.show()\n",
        "\n",
        "#testing model\n",
        "results = model.evaluate(x_test, y_test)\n",
        "print(\"test loss, test acc:\", results)"
      ],
      "execution_count": 14,
      "outputs": [
        {
          "output_type": "stream",
          "text": [
            "Epoch 1/10\n",
            "693/693 [==============================] - 39s 8ms/step - loss: 0.3946 - accuracy: 0.8651 - val_loss: 0.3816 - val_accuracy: 0.8721\n",
            "Epoch 2/10\n",
            "693/693 [==============================] - 5s 7ms/step - loss: 0.3759 - accuracy: 0.8753 - val_loss: 0.3807 - val_accuracy: 0.8721\n",
            "Epoch 3/10\n",
            "693/693 [==============================] - 5s 7ms/step - loss: 0.3743 - accuracy: 0.8763 - val_loss: 0.3794 - val_accuracy: 0.8721\n",
            "Epoch 4/10\n",
            "693/693 [==============================] - 5s 7ms/step - loss: 0.3772 - accuracy: 0.8736 - val_loss: 0.3832 - val_accuracy: 0.8721\n",
            "Epoch 5/10\n",
            "693/693 [==============================] - 5s 7ms/step - loss: 0.3798 - accuracy: 0.8721 - val_loss: 0.3800 - val_accuracy: 0.8721\n",
            "Epoch 6/10\n",
            "693/693 [==============================] - 5s 7ms/step - loss: 0.3730 - accuracy: 0.8745 - val_loss: 0.3838 - val_accuracy: 0.8721\n",
            "Epoch 7/10\n",
            "693/693 [==============================] - 5s 7ms/step - loss: 0.3769 - accuracy: 0.8730 - val_loss: 0.3775 - val_accuracy: 0.8721\n",
            "Epoch 8/10\n",
            "693/693 [==============================] - 5s 7ms/step - loss: 0.3699 - accuracy: 0.8755 - val_loss: 0.3780 - val_accuracy: 0.8721\n",
            "Epoch 9/10\n",
            "693/693 [==============================] - 5s 7ms/step - loss: 0.3731 - accuracy: 0.8747 - val_loss: 0.3789 - val_accuracy: 0.8721\n",
            "Epoch 10/10\n",
            "693/693 [==============================] - 5s 7ms/step - loss: 0.3675 - accuracy: 0.8764 - val_loss: 0.3799 - val_accuracy: 0.8721\n"
          ],
          "name": "stdout"
        },
        {
          "output_type": "display_data",
          "data": {
            "image/png": "[encoded data removed]",
            "text/plain": [
              "<Figure size 576x360 with 1 Axes>"
            ]
          },
          "metadata": {
            "tags": [],
            "needs_background": "light"
          }
        },
        {
          "output_type": "stream",
          "text": [
            "86/86 [==============================] - 0s 3ms/step - loss: 0.3615 - accuracy: 0.8779\n",
            "test loss, test acc: [0.36150386929512024, 0.8778793215751648]\n"
          ],
          "name": "stdout"
        }
      ]
    },
    {
      "cell_type": "code",
      "metadata": {
        "id": "gNxwCWutE25t"
      },
      "source": [
        "#0.5 esp & 10 esp --> 88% accuracy"
      ],
      "execution_count": 15,
      "outputs": []
    }
  ]
}
